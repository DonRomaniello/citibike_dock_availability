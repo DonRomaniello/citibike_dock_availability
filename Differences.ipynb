{
  "nbformat": 4,
  "nbformat_minor": 0,
  "metadata": {
    "colab": {
      "name": "Differences.ipynb",
      "provenance": [],
      "collapsed_sections": [],
      "include_colab_link": true
    },
    "kernelspec": {
      "display_name": "Python 3",
      "language": "python",
      "name": "python3"
    },
    "language_info": {
      "codemirror_mode": {
        "name": "ipython",
        "version": 3
      },
      "file_extension": ".py",
      "mimetype": "text/x-python",
      "name": "python",
      "nbconvert_exporter": "python",
      "pygments_lexer": "ipython3",
      "version": "3.7.6"
    }
  },
  "cells": [
    {
      "cell_type": "markdown",
      "metadata": {
        "id": "view-in-github",
        "colab_type": "text"
      },
      "source": [
        "<a href=\"https://colab.research.google.com/github/DonRomaniello/citibike_dock_availability/blob/master/Differences.ipynb\" target=\"_parent\"><img src=\"https://colab.research.google.com/assets/colab-badge.svg\" alt=\"Open In Colab\"/></a>"
      ]
    },
    {
      "cell_type": "code",
      "metadata": {
        "colab_type": "code",
        "id": "mbw0ug0cUfk9",
        "colab": {}
      },
      "source": [
        "import pandas as pd\n",
        "import numpy as np\n",
        "import matplotlib.pyplot as plt\n",
        "import seaborn as sns\n",
        "import scipy\n",
        "\n",
        "import os\n",
        "import tarfile\n",
        "\n",
        "import time\n",
        "import datetime\n",
        "import webbrowser\n",
        "import requests\n",
        "import json"
      ],
      "execution_count": 0,
      "outputs": []
    },
    {
      "cell_type": "code",
      "metadata": {
        "colab_type": "code",
        "id": "yKbUgFiIVEeU",
        "outputId": "9b05cdd6-f32f-48bd-bb72-a1064fa3e1e4",
        "colab": {
          "base_uri": "https://localhost:8080/",
          "height": 71
        }
      },
      "source": [
        "#docks = pd.read_csv('https://zakalwe.s3.amazonaws.com/OldRound.csv.xz', compression='xz', index_col=0)\n",
        "docks = pd.read_csv('./Google Drive/GeneralAssembly/Citibike/Processed/OldRound.csv.xz', compression='xz', index_col=0)"
      ],
      "execution_count": 0,
      "outputs": [
        {
          "output_type": "stream",
          "text": [
            "/Volumes/Kahooni/don/anaconda3/lib/python3.7/site-packages/IPython/core/interactiveshell.py:3058: DtypeWarning: Columns (0) have mixed types. Specify dtype option on import or set low_memory=False.\n",
            "  interactivity=interactivity, compiler=compiler, result=result)\n"
          ],
          "name": "stderr"
        }
      ]
    },
    {
      "cell_type": "code",
      "metadata": {
        "colab_type": "code",
        "id": "2A7IXlGbqmrH",
        "colab": {}
      },
      "source": [
        "def openseries(dframe, t):\n",
        "  collen = len(dframe)\n",
        "  changelist = []\n",
        "  for x in range(0, (collen - t) ):\n",
        "    changelist.append(dframe.iloc[(x + t)] - dframe.iloc[x])\n",
        "  return changelist"
      ],
      "execution_count": 0,
      "outputs": []
    },
    {
      "cell_type": "code",
      "metadata": {
        "colab_type": "code",
        "id": "dKIPn3KKsAaO",
        "colab": {}
      },
      "source": [
        "def windowpass(timewindow):\n",
        "\n",
        "  stds = pd.DataFrame(columns=docks.columns[:-timewindow])\n",
        "  csvname = './Google Drive/GeneralAssembly/Citibike/Processed/diffs' + str(timewindow) + '.csv'\n",
        "  namestocompress.append(csvname)\n",
        "  \n",
        "  for x in docks.index:\n",
        "    stds.loc[x] = openseries(docks.loc[x], timewindow)\n",
        "  stds.to_csv(csvname)\n",
        "  del stds\n",
        "\n",
        "  return"
      ],
      "execution_count": 0,
      "outputs": []
    },
    {
      "cell_type": "code",
      "metadata": {
        "id": "y4q1TupQ3z-5",
        "colab_type": "code",
        "colab": {}
      },
      "source": [
        "namestocompress = []"
      ],
      "execution_count": 0,
      "outputs": []
    },
    {
      "cell_type": "code",
      "metadata": {
        "id": "qi-uhCAc34Bf",
        "colab_type": "code",
        "colab": {}
      },
      "source": [
        "for timewindow in range(15, 48, 15):\n",
        "  windowpass(timewindow)"
      ],
      "execution_count": 0,
      "outputs": []
    },
    {
      "cell_type": "code",
      "metadata": {
        "id": "nwIbBiFrtriI",
        "colab_type": "code",
        "colab": {}
      },
      "source": [
        "for compressme in namestocompress:\n",
        "  !xz -zf --threads=0 compressme"
      ],
      "execution_count": 0,
      "outputs": []
    }
  ]
}